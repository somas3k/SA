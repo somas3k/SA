{
 "cells": [
  {
   "cell_type": "code",
   "execution_count": 1,
   "metadata": {
    "collapsed": true,
    "pycharm": {
     "is_executing": false
    }
   },
   "outputs": [],
   "source": [
    "import matplotlib.pyplot as plt\n",
    "import numpy as np\n",
    "from SALib.analyze import sobol\n",
    "from SALib.sample import saltelli\n",
    "from matplotlib import offsetbox\n",
    "from sklearn import manifold\n",
    "from sklearn.neighbors import NearestNeighbors\n",
    "from sklearn import datasets"
   ]
  },
  {
   "cell_type": "code",
   "execution_count": 2,
   "outputs": [],
   "source": [
    "def plot_embedding(X, title=None):\n",
    "    x_min, x_max = np.min(X, 0), np.max(X, 0)\n",
    "    X = (X - x_min) / (x_max - x_min)\n",
    "\n",
    "    plt.figure()\n",
    "    for i in range(X.shape[0]):\n",
    "        plt.text(X[i, 0], X[i, 1], str(y[i]),\n",
    "                 color=plt.cm.Set1((y[i]+1) / 10.),\n",
    "                 fontdict={'weight': 'bold', 'size': 9})\n",
    "\n",
    "    if hasattr(offsetbox, 'AnnotationBbox'):\n",
    "        # only print thumbnails with matplotlib > 1.0\n",
    "        shown_images = np.array([[1., 1.]])  # just something big\n",
    "        for i in range(X.shape[0]):\n",
    "            dist = np.sum((X[i] - shown_images) ** 2, 1)\n",
    "            if np.min(dist) < 4e-3:\n",
    "                # don't show points that are too close\n",
    "                continue\n",
    "            shown_images = np.r_[shown_images, [X[i]]]\n",
    "            # imagebox = offsetbox.AnnotationBbox(\n",
    "            #     offsetbox.OffsetImage(digits.images[i], cmap=plt.cm.gray_r),\n",
    "            #     X[i])\n",
    "            # ax.add_artist(imagebox)\n",
    "    plt.xticks([]), plt.yticks([])\n",
    "    if title is not None:\n",
    "        plt.title(title)"
   ],
   "metadata": {
    "collapsed": false,
    "pycharm": {
     "name": "#%%\n",
     "is_executing": false
    }
   }
  },
  {
   "cell_type": "code",
   "execution_count": 4,
   "outputs": [],
   "source": [
    "def transform_digits(images):\n",
    "    result = []\n",
    "    for image in images:\n",
    "        result.append(image.flatten())\n",
    "    return np.asarray(result)\n",
    "\n",
    "\n",
    "def calculate_fit(label_group):\n",
    "    label = label_group[0]\n",
    "    s = 0.\n",
    "    for l in label_group[1:]:\n",
    "        if l == label:\n",
    "            s += 0.25\n",
    "    return s\n",
    "\n",
    "\n",
    "def calculate_nn_metric(X, y, neighs) -> float:\n",
    "    nbrs = NearestNeighbors(n_neighbors=neighs).fit(X)\n",
    "    _, indices = nbrs.kneighbors(X)\n",
    "    return sum(map(lambda ind: calculate_fit(y[ind]), indices))\n",
    "\n",
    "\n",
    "def perform_embedding(X, y, perplexity, early_exaggeration, learning_rate, n_iter, init, random_state, angle) -> float:\n",
    "    tsne = manifold.TSNE(n_components=2, perplexity=perplexity, early_exaggeration=early_exaggeration, learning_rate=learning_rate, n_iter=int(n_iter), init=('random' if init < 0.5 else 'pca'), random_state=int(random_state), angle=angle)\n",
    "    # tsne = manifold.TSNE(n_components=2, init='pca', random_state=0)\n",
    "    return tsne.fit_transform(X)"
   ],
   "metadata": {
    "collapsed": false,
    "pycharm": {
     "name": "#%%\n",
     "is_executing": false
    }
   }
  },
  {
   "cell_type": "code",
   "execution_count": 5,
   "outputs": [],
   "source": [
    "problem = {\n",
    "    'num_vars': 7,\n",
    "    'names': ['perplexity', 'early_exaggeration', 'learning_rate', 'n_iter', 'init', 'random_state', 'angle'],\n",
    "    'bounds': [\n",
    "        [5.0, 50.0],\n",
    "        [1.0, 100.0],\n",
    "        [10.0, 1000.0],\n",
    "        [250, 2500],\n",
    "        [0.0, 1.0],\n",
    "        [0.0, 1000.0],\n",
    "        [0.0, 1.0]\n",
    "    ]\n",
    "}"
   ],
   "metadata": {
    "collapsed": false,
    "pycharm": {
     "name": "#%%\n",
     "is_executing": false
    }
   }
  },
  {
   "cell_type": "code",
   "execution_count": 6,
   "outputs": [],
   "source": [
    "digits = datasets.load_digits()\n",
    "\n",
    "X = transform_digits(digits.images)\n",
    "y = digits.target\n",
    "n_samples, n_features = X.shape"
   ],
   "metadata": {
    "collapsed": false,
    "pycharm": {
     "name": "#%%\n",
     "is_executing": false
    }
   }
  },
  {
   "cell_type": "code",
   "execution_count": 7,
   "outputs": [],
   "source": [
    "N = 1\n",
    "samples = saltelli.sample(problem, N)"
   ],
   "metadata": {
    "collapsed": false,
    "pycharm": {
     "name": "#%%\n",
     "is_executing": false
    }
   }
  },
  {
   "cell_type": "code",
   "execution_count": 8,
   "outputs": [],
   "source": [
    "import multiprocessing\n",
    "from multiprocessing import Pool, Value\n",
    "import time"
   ],
   "metadata": {
    "collapsed": false,
    "pycharm": {
     "name": "#%%\n",
     "is_executing": false
    }
   }
  },
  {
   "cell_type": "code",
   "execution_count": null,
   "outputs": [
    {
     "name": "stdout",
     "text": [
      "Starting to calculate 1 of 160\n",
      "Starting to calculate 2 of 160\n",
      "Starting to calculate 3 of 160\n",
      "Starting to calculate 4 of 160\n",
      "Starting to calculate 5 of 160\n",
      "Starting to calculate 6 of 160\n",
      "Starting to calculate 7 of 160\n",
      "Starting to calculate 8 of 160\n",
      "Calculation complete for 3 of 160\n",
      "Starting to calculate 9 of 160\n",
      "Calculation complete for 4 of 160\n",
      "Starting to calculate 10 of 160\n",
      "Calculation complete for 10 of 160\n",
      "Starting to calculate 11 of 160\n",
      "Calculation complete for 6 of 160\n",
      "Starting to calculate 12 of 160\n",
      "Calculation complete for 7 of 160\n",
      "Starting to calculate 13 of 160\n",
      "Calculation complete for 5 of 160\n",
      "Starting to calculate 14 of 160\n",
      "Calculation complete for 11 of 160\n",
      "Starting to calculate 15 of 160\n",
      "Calculation complete for 1 of 160\n",
      "Starting to calculate 16 of 160\n",
      "Calculation complete for 2 of 160\n",
      "Starting to calculate 17 of 160\n",
      "Calculation complete for 8 of 160\n",
      "Starting to calculate 18 of 160\n",
      "Calculation complete for 14 of 160\n",
      "Starting to calculate 19 of 160\n",
      "Calculation complete for 9 of 160\n",
      "Starting to calculate 20 of 160\n",
      "Calculation complete for 15 of 160\n",
      "Starting to calculate 21 of 160\n",
      "Calculation complete for 20 of 160\n",
      "Starting to calculate 22 of 160\n",
      "Calculation complete for 12 of 160\n",
      "Starting to calculate 23 of 160\n",
      "Calculation complete for 19 of 160\n",
      "Starting to calculate 24 of 160\n",
      "Calculation complete for 13 of 160\n",
      "Starting to calculate 25 of 160\n",
      "Calculation complete for 21 of 160\n",
      "Starting to calculate 26 of 160\n",
      "Calculation complete for 22 of 160\n",
      "Starting to calculate 27 of 160\n"
     ],
     "output_type": "stream"
    }
   ],
   "source": [
    "def embedding(sample):\n",
    "    global counter\n",
    "    with counter.get_lock():\n",
    "        counter.value += 1\n",
    "        step = counter.value\n",
    "    print('Starting to calculate ' + str(step) + ' of ' + str(len(samples)) + ' (sample ' + str([\"{0:0.2f}\".format(i) for i in sample]) + ')')\n",
    "    t = time.process_time()\n",
    "    embed = perform_embedding(X, y, *sample)\n",
    "    elapsed_time = time.process_time() - t\n",
    "    print('Calculation complete for ' + str(step) + ' of ' + str(len(samples)) + ' in ' + str(elapsed_time) + ' s.')\n",
    "    return embed"
   ],
   "metadata": {
    "collapsed": false,
    "pycharm": {
     "name": "#%%\n",
     "is_executing": true
    }
   }
  },
  {
   "cell_type": "code",
   "execution_count": null,
   "outputs": [],
   "source": [
    "counter = Value('i', 0)\n",
    "\n",
    "with Pool(processes=multiprocessing.cpu_count()) as pool:\n",
    "    embeddings = pool.map(embedding, samples)"
   ],
   "metadata": {
    "collapsed": false,
    "pycharm": {
     "name": "#%%\n"
    }
   }
  },
  {
   "cell_type": "code",
   "execution_count": null,
   "outputs": [],
   "source": [
    "def get_metric(args):\n",
    "    embedding, neighs = args\n",
    "    global counter\n",
    "    with counter.get_lock():\n",
    "        counter.value += 1\n",
    "        step = counter.value\n",
    "    print('Starting to calculate ' + str(step) + ' of ' + str(len(embeddings)))\n",
    "    t = time.process_time()\n",
    "    metric = calculate_nn_metric(embedding, y, neighs)\n",
    "    elapsed_time = time.process_time() - t\n",
    "    print('Calculation complete for ' + str(step) + ' of ' + str(len(embeddings)) + ' in ' + str(elapsed_time) + ' s.')\n",
    "    return metric"
   ],
   "metadata": {
    "collapsed": false,
    "pycharm": {
     "name": "#%%\n"
    }
   }
  },
  {
   "cell_type": "code",
   "execution_count": null,
   "outputs": [],
   "source": [
    "\n",
    "neighs_nums = [5, 10, 20]\n",
    "Ys = []\n",
    "for neighs in neighs_nums:\n",
    "    counter = Value('i', 0)\n",
    "    print(\"############# Calculation of metrics for {} neighs ###################\".format(neighs))\n",
    "    with Pool(processes=multiprocessing.cpu_count()) as pool:\n",
    "        Ys.append(pool.map(get_metric, [(embedding, neighs) for embedding in embeddings]))"
   ],
   "metadata": {
    "collapsed": false,
    "pycharm": {
     "name": "#%%\n"
    }
   }
  },
  {
   "cell_type": "code",
   "execution_count": null,
   "outputs": [],
   "source": [
    "Ys[0]"
   ],
   "metadata": {
    "collapsed": false,
    "pycharm": {
     "name": "#%%\n"
    }
   }
  },
  {
   "cell_type": "code",
   "execution_count": null,
   "outputs": [],
   "source": [
    "Y"
   ],
   "metadata": {
    "collapsed": false,
    "pycharm": {
     "name": "#%%\n",
     "is_executing": true
    }
   }
  },
  {
   "cell_type": "code",
   "execution_count": null,
   "outputs": [],
   "source": [
    "sensitivity = sobol.analyze(problem, Y)"
   ],
   "metadata": {
    "collapsed": false,
    "pycharm": {
     "name": "#%%\n",
     "is_executing": true
    }
   }
  },
  {
   "cell_type": "code",
   "execution_count": null,
   "outputs": [],
   "source": [
    "sensitivity[\"S1\"]    "
   ],
   "metadata": {
    "collapsed": false,
    "pycharm": {
     "name": "#%%\n",
     "is_executing": true
    }
   }
  },
  {
   "cell_type": "code",
   "execution_count": null,
   "outputs": [],
   "source": [
    "sensitivity['ST']\n"
   ],
   "metadata": {
    "collapsed": false,
    "pycharm": {
     "name": "#%%\n",
     "is_executing": true
    }
   }
  },
  {
   "cell_type": "code",
   "execution_count": null,
   "outputs": [],
   "source": [
    "# print(Y)\n",
    "index = np.argmin(Y)\n",
    "# print(index)\n",
    "for s in sample[index]:\n",
    "    print('%.2f' % s)"
   ],
   "metadata": {
    "collapsed": false,
    "pycharm": {
     "name": "#%%\n",
     "is_executing": true
    }
   }
  },
  {
   "cell_type": "code",
   "execution_count": null,
   "outputs": [],
   "source": [
    "\n"
   ],
   "metadata": {
    "collapsed": false,
    "pycharm": {
     "name": "#%%\n",
     "is_executing": true
    }
   }
  }
 ],
 "metadata": {
  "kernelspec": {
   "display_name": "Python 3",
   "language": "python",
   "name": "python3"
  },
  "language_info": {
   "codemirror_mode": {
    "name": "ipython",
    "version": 2
   },
   "file_extension": ".py",
   "mimetype": "text/x-python",
   "name": "python",
   "nbconvert_exporter": "python",
   "pygments_lexer": "ipython2",
   "version": "2.7.6"
  },
  "pycharm": {
   "stem_cell": {
    "cell_type": "raw",
    "source": [],
    "metadata": {
     "collapsed": false
    }
   }
  }
 },
 "nbformat": 4,
 "nbformat_minor": 0
}