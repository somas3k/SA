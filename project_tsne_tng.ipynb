{
 "cells": [
  {
   "cell_type": "code",
   "execution_count": null,
   "metadata": {
    "pycharm": {
     "is_executing": false
    }
   },
   "outputs": [],
   "source": [
    "import matplotlib.pyplot as plt\n",
    "import numpy as np\n",
    "from SALib.analyze import sobol\n",
    "from SALib.sample import saltelli\n",
    "from matplotlib import offsetbox\n",
    "from sklearn import manifold\n",
    "from sklearn.datasets import fetch_20newsgroups\n",
    "from sklearn.decomposition import TruncatedSVD, PCA\n",
    "from sklearn.neighbors import NearestNeighbors\n",
    "from sklearn.feature_extraction.text import TfidfVectorizer"
   ]
  },
  {
   "cell_type": "code",
   "execution_count": null,
   "metadata": {
    "pycharm": {
     "is_executing": false,
     "name": "#%%\n"
    }
   },
   "outputs": [],
   "source": [
    "def plot_embedding(X, y, title=None):\n",
    "    x_min, x_max = np.min(X, 0), np.max(X, 0)\n",
    "    X = (X - x_min) / (x_max - x_min)\n",
    "\n",
    "    plt.figure()\n",
    "    for i in range(X.shape[0]):\n",
    "        plt.text(X[i, 0], X[i, 1], str(y[i]),\n",
    "                 color=plt.cm.tab20((y[i]+0.5) / 20.),\n",
    "                 fontdict={'weight': 'bold', 'size': 6})\n",
    "\n",
    "    if hasattr(offsetbox, 'AnnotationBbox'):\n",
    "        # only print thumbnails with matplotlib > 1.0\n",
    "        shown_images = np.array([[1., 1.]])  # just something big\n",
    "        for i in range(X.shape[0]):\n",
    "            dist = np.sum((X[i] - shown_images) ** 2, 1)\n",
    "            if np.min(dist) < 4e-3:\n",
    "                # don't show points that are too close\n",
    "                continue\n",
    "            shown_images = np.r_[shown_images, [X[i]]]\n",
    "            # imagebox = offsetbox.AnnotationBbox(\n",
    "            #     offsetbox.OffsetImage(digits.images[i], cmap=plt.cm.gray_r),\n",
    "            #     X[i])\n",
    "            # ax.add_artist(imagebox)\n",
    "    plt.xticks([]), plt.yticks([])\n",
    "    if title is not None:\n",
    "        plt.title(title)"
   ]
  },
  {
   "cell_type": "code",
   "execution_count": null,
   "metadata": {
    "pycharm": {
     "is_executing": false,
     "name": "#%%\n"
    }
   },
   "outputs": [],
   "source": [
    "def calculate_fit(label_group):\n",
    "    label = label_group[0]\n",
    "    s = 0.\n",
    "    for l in label_group[1:]:\n",
    "        if l == label:\n",
    "            s += 0.25\n",
    "    return s\n",
    "\n",
    "\n",
    "def calculate_nn_metric(X, y, neighs) -> float:\n",
    "    nbrs = NearestNeighbors(n_neighbors=neighs).fit(X)\n",
    "    _, indices = nbrs.kneighbors(X)\n",
    "    return sum(map(lambda ind: calculate_fit(y[ind]), indices))\n",
    "\n",
    "\n",
    "def perform_embedding(X, y, perplexity, early_exaggeration, learning_rate, n_iter, init, random_state, angle) -> float:\n",
    "    tsne = manifold.TSNE(n_components=2, metric='cosine', perplexity=perplexity, early_exaggeration=early_exaggeration, learning_rate=learning_rate, n_iter=int(n_iter), init=('random' if init < 0.5 else 'pca'), random_state=int(random_state), angle=angle)\n",
    "    return tsne.fit_transform(X)"
   ]
  },
  {
   "cell_type": "code",
   "execution_count": null,
   "metadata": {
    "pycharm": {
     "is_executing": false,
     "name": "#%%\n"
    }
   },
   "outputs": [],
   "source": [
    "problem = {\n",
    "    'num_vars': 7,\n",
    "    'names': ['perplexity', 'early_exaggeration', 'learning_rate', 'n_iter', 'init', 'random_state', 'angle'],\n",
    "    'bounds': [\n",
    "        [5.0, 50.0],\n",
    "        [1.0, 100.0],\n",
    "        [10.0, 1000.0],\n",
    "        [250, 2500],\n",
    "        [0.0, 1.0],\n",
    "        [0.0, 1000.0],\n",
    "        [0.2, 0.8]\n",
    "    ]\n",
    "}"
   ]
  },
  {
   "cell_type": "code",
   "execution_count": null,
   "metadata": {
    "pycharm": {
     "is_executing": false,
     "name": "#%%\n"
    }
   },
   "outputs": [],
   "source": [
    "data_text, labels = fetch_20newsgroups(remove=('headers', 'footers', 'quotes'), return_X_y=True)"
   ]
  },
  {
   "cell_type": "code",
   "execution_count": null,
   "metadata": {
    "pycharm": {
     "is_executing": false,
     "name": "#%%\n"
    }
   },
   "outputs": [],
   "source": [
    "n_features = 60000\n",
    "tfidf_vectorizer = TfidfVectorizer(max_features=n_features,\n",
    "                                   stop_words='english')\n",
    "\n",
    "data = tfidf_vectorizer.fit_transform(data_text)\n",
    "\n",
    "data.shape\n"
   ]
  },
  {
   "cell_type": "code",
   "execution_count": null,
   "metadata": {
    "pycharm": {
     "is_executing": false,
     "name": "#%%\n"
    }
   },
   "outputs": [],
   "source": [
    "X = TruncatedSVD(n_components=50).fit_transform(data)\n",
    "\n",
    "y = labels"
   ]
  },
  {
   "cell_type": "code",
   "execution_count": null,
   "metadata": {
    "pycharm": {
     "is_executing": false,
     "name": "#%%\n"
    }
   },
   "outputs": [],
   "source": [
    "N = 20\n",
    "samples = saltelli.sample(problem, N)\n",
    "np.savez('samples_tng.npz', samples)"
   ]
  },
  {
   "cell_type": "code",
   "execution_count": null,
   "metadata": {
    "pycharm": {
     "is_executing": false,
     "name": "#%%\n"
    }
   },
   "outputs": [],
   "source": [
    "import multiprocessing\n",
    "from multiprocessing import Pool, Value\n",
    "import time"
   ]
  },
  {
   "cell_type": "code",
   "execution_count": null,
   "metadata": {
    "pycharm": {
     "is_executing": false,
     "name": "#%%\n"
    }
   },
   "outputs": [],
   "source": [
    "def embedding(sample):\n",
    "    global counter\n",
    "    with counter.get_lock():\n",
    "        counter.value += 1\n",
    "        step = counter.value\n",
    "    print('Starting to calculate ' + str(step) + ' of ' + str(len(samples)) + ' (sample ' + str([\"{0:0.2f}\".format(i) for i in sample]) + ')')\n",
    "    t = time.process_time()\n",
    "    embed = perform_embedding(X, y, *sample)\n",
    "    elapsed_time = time.process_time() - t\n",
    "    print('Calculation complete for ' + str(step) + ' of ' + str(len(samples)) + ' in ' + str(elapsed_time) + ' s.')\n",
    "    return [embed, elapsed_time]"
   ]
  },
  {
   "cell_type": "code",
   "execution_count": null,
   "metadata": {
    "pycharm": {
     "is_executing": true,
     "name": "#%%\n"
    }
   },
   "outputs": [],
   "source": [
    "counter = Value('i', 0)\n",
    "\n",
    "with Pool(processes=multiprocessing.cpu_count()) as pool:\n",
    "    embeddings_with_times = pool.map(embedding, samples)\n",
    "    \n",
    "np.savez('embeds_with_time.npz', np.array(embeddings_with_times))"
   ]
  },
  {
   "cell_type": "code",
   "execution_count": null,
   "metadata": {
    "pycharm": {
     "is_executing": true,
     "name": "#%%\n"
    }
   },
   "outputs": [],
   "source": [
    "def get_metric(args):\n",
    "    embedding, neighs = args\n",
    "    global counter\n",
    "    with counter.get_lock():\n",
    "        counter.value += 1\n",
    "        step = counter.value\n",
    "    print('Starting to calculate ' + str(step) + ' of ' + str(len(embeddings)))\n",
    "    t = time.process_time()\n",
    "    metric = calculate_nn_metric(embedding, y, neighs)\n",
    "    elapsed_time = time.process_time() - t\n",
    "    print('Calculation complete for ' + str(step) + ' of ' + str(len(embeddings)) + ' in ' + str(elapsed_time) + ' s.')\n",
    "    return metric"
   ]
  },
  {
   "cell_type": "code",
   "execution_count": null,
   "metadata": {
    "pycharm": {
     "is_executing": true,
     "name": "#%%\n"
    }
   },
   "outputs": [],
   "source": [
    "\n",
    "neighs_nums = [5, 10, 20]\n",
    "Ys = []\n",
    "for neighs in neighs_nums:\n",
    "    counter = Value('i', 0)\n",
    "    print(\"############# Calculation of metrics for {} neighs ###################\".format(neighs))\n",
    "    with Pool(processes=multiprocessing.cpu_count()) as pool:\n",
    "        Ys.append(pool.map(get_metric, [(embedding, neighs) for embedding in embeddings]))\n",
    "\n"
   ]
  }
 ],
 "metadata": {
  "kernelspec": {
   "display_name": "Python 3",
   "language": "python",
   "name": "python3"
  },
  "language_info": {
   "codemirror_mode": {
    "name": "ipython",
    "version": 3
   },
   "file_extension": ".py",
   "mimetype": "text/x-python",
   "name": "python",
   "nbconvert_exporter": "python",
   "pygments_lexer": "ipython3",
   "version": "3.6.7"
  },
  "pycharm": {
   "stem_cell": {
    "cell_type": "raw",
    "source": [],
    "metadata": {
     "collapsed": false
    }
   }
  }
 },
 "nbformat": 4,
 "nbformat_minor": 1
}