{
 "cells": [
  {
   "cell_type": "markdown",
   "metadata": {},
   "source": [
    "# Sensitivity analysis"
   ]
  },
  {
   "cell_type": "code",
   "execution_count": null,
   "metadata": {
    "pycharm": {
     "name": "#%%\n"
    }
   },
   "outputs": [],
   "source": [
    "import numpy\n",
    "import scipy.stats\n",
    "import pandas\n",
    "import matplotlib.pyplot as plt\n",
    "import sympy\n",
    "import SALib\n",
    "plt.style.use(\"bmh\")\n",
    "from mpl_toolkits.mplot3d import Axes3D\n",
    "%config InlineBackend.figure_formats=[\"svg\"]"
   ]
  },
  {
   "cell_type": "markdown",
   "metadata": {},
   "source": [
    "Funkcja Rosenbrock'a jest klasykiem w analizie niepewności i wrażliwości."
   ]
  },
  {
   "cell_type": "code",
   "execution_count": null,
   "metadata": {
    "pycharm": {
     "name": "#%%\n"
    }
   },
   "outputs": [],
   "source": [
    "def rosenbrock(x1, x2):\n",
    "    return 100 * (x2 - x1**2)**2 + (1 - x1)**2"
   ]
  },
  {
   "cell_type": "markdown",
   "metadata": {},
   "source": [
    "Na szczeście jest to funkcja w małej liczbie wymiarów więc narysujmy ją nad dziedziną $[-2, 2]^2$ by zobaczyć jej kształt."
   ]
  },
  {
   "cell_type": "code",
   "execution_count": null,
   "metadata": {
    "pycharm": {
     "name": "#%%\n"
    }
   },
   "outputs": [],
   "source": [
    "N = 100\n",
    "fig = plt.figure()\n",
    "ax = fig.gca(projection=\"3d\")\n",
    "# TODO: podziel dziedzinę na N punktów w każdym wymiarze (numpy.linspace)\n",
    "\n",
    "X, Y = numpy.meshgrid(x, y)\n",
    "ax.plot_surface(X, Y, rosenbrock(X, Y), alpha=0.8)\n",
    "ax.set_facecolor(\"white\")\n",
    "plt.xlabel(r\"$x_1$\")\n",
    "plt.ylabel(r\"$x_2$\");"
   ]
  },
  {
   "cell_type": "markdown",
   "metadata": {},
   "source": [
    "## Local sensitivity analysis"
   ]
  },
  {
   "cell_type": "markdown",
   "metadata": {},
   "source": [
    "Do analizy lokalnej potrzebujemy policzyć pochodne lokalne funkcji Rosenbrock'a."
   ]
  },
  {
   "cell_type": "code",
   "execution_count": null,
   "metadata": {
    "pycharm": {
     "name": "#%%\n"
    }
   },
   "outputs": [],
   "source": [
    "from sympy.interactive import printing\n",
    "printing.init_printing(use_latex=\"mathjax\")"
   ]
  },
  {
   "cell_type": "code",
   "execution_count": null,
   "metadata": {
    "pycharm": {
     "name": "#%%\n"
    }
   },
   "outputs": [],
   "source": [
    "x1 = sympy.Symbol(\"x1\")\n",
    "x2 = sympy.Symbol(\"x2\")\n",
    "rosen = 100 * (x2 - x1**2)**2 + (1 - x1)**2\n",
    "# TODO: policzmy pochodne powyższej funkcji po x1 i x2"
   ]
  },
  {
   "cell_type": "code",
   "execution_count": null,
   "metadata": {
    "pycharm": {
     "name": "#%%\n"
    }
   },
   "outputs": [],
   "source": [
    "d1"
   ]
  },
  {
   "cell_type": "code",
   "execution_count": null,
   "metadata": {
    "pycharm": {
     "name": "#%%\n"
    }
   },
   "outputs": [],
   "source": [
    "d2"
   ]
  },
  {
   "cell_type": "markdown",
   "metadata": {},
   "source": [
    "Funkcja wygląda na płaską w pobliżu $(0, 0)$; Możemy to sprawdzić za pomocą podstawienia."
   ]
  },
  {
   "cell_type": "code",
   "execution_count": null,
   "metadata": {
    "pycharm": {
     "name": "#%%\n"
    }
   },
   "outputs": [],
   "source": [
    "d1.subs({x1: 0, x2: 0})"
   ]
  },
  {
   "cell_type": "code",
   "execution_count": null,
   "metadata": {
    "pycharm": {
     "name": "#%%\n"
    }
   },
   "outputs": [],
   "source": [
    "d2.subs({x1: 0, x2: 0})"
   ]
  },
  {
   "cell_type": "markdown",
   "metadata": {},
   "source": [
    "Jak widać powyżej, funkcja w tamtym miejscu nie jest zbytnio rosnąca czy malejąca więc jest tam mało wrażliwa na zmiany wejścia."
   ]
  },
  {
   "cell_type": "markdown",
   "metadata": {},
   "source": [
    "Funkcja jest bardziej stroma (czyli będzie tam większa wrażliwość lokalna) w pobliżu punktu $(-2, -2)$."
   ]
  },
  {
   "cell_type": "code",
   "execution_count": null,
   "metadata": {
    "pycharm": {
     "name": "#%%\n"
    }
   },
   "outputs": [],
   "source": [
    "d1.subs({x1: -2, x2: -2})"
   ]
  },
  {
   "cell_type": "code",
   "execution_count": null,
   "metadata": {
    "pycharm": {
     "name": "#%%\n"
    }
   },
   "outputs": [],
   "source": [
    "d2.subs({x1: -2, x2: -2})"
   ]
  },
  {
   "cell_type": "markdown",
   "metadata": {},
   "source": [
    "W $(-2, 2)$ podobnie."
   ]
  },
  {
   "cell_type": "code",
   "execution_count": null,
   "metadata": {
    "pycharm": {
     "name": "#%%\n"
    }
   },
   "outputs": [],
   "source": [
    "d1.subs({x1: -2, x2: 2})"
   ]
  },
  {
   "cell_type": "code",
   "execution_count": null,
   "metadata": {
    "pycharm": {
     "name": "#%%\n"
    }
   },
   "outputs": [],
   "source": [
    "d2.subs({x1: -2, x2: 2})"
   ]
  },
  {
   "cell_type": "markdown",
   "metadata": {},
   "source": [
    "Przy użyciu SciPy'a możemy obliczyć minimum dla całej funkcji nad dziedziną $[-2, 2]^2$\n",
    ". Użyj funkcji `scipy.optimize.fmin`z punktem startowym `[2, 2]`."
   ]
  },
  {
   "cell_type": "code",
   "execution_count": null,
   "metadata": {
    "pycharm": {
     "name": "#%%\n"
    }
   },
   "outputs": [],
   "source": [
    "import scipy\n",
    "# TODO"
   ]
  },
  {
   "cell_type": "markdown",
   "metadata": {},
   "source": [
    "## Global sensitivity analysis"
   ]
  },
  {
   "cell_type": "markdown",
   "metadata": {},
   "source": [
    "Do globalnej analizy wrażliwości użyjemy framework'u SALib (https://github.com/jdherman/SALib)"
   ]
  },
  {
   "cell_type": "code",
   "execution_count": null,
   "metadata": {
    "pycharm": {
     "name": "#%%\n"
    }
   },
   "outputs": [],
   "source": [
    "from SALib.sample import saltelli\n",
    "from SALib.analyze import sobol"
   ]
  },
  {
   "cell_type": "code",
   "execution_count": null,
   "metadata": {
    "pycharm": {
     "name": "#%%\n"
    }
   },
   "outputs": [],
   "source": [
    "N = 1000\n",
    "problem = {\n",
    "    \"num_vars\": 2, \n",
    "    \"names\": [\"x1\", \"x2\"], \n",
    "    \"bounds\": [[-2, 2], [-2, 2]]\n",
    "}\n",
    "sample = saltelli.sample(problem, N)\n",
    "Y = numpy.empty([sample.shape[0]])\n",
    "# wypełnij tablicę Y wartościami zwracanymi przez funkcję Rosenbrock'a dla wygenerowanych próbek\n",
    "\n",
    "sensitivity = sobol.analyze(problem, Y)\n",
    "sensitivity[\"S1\"]"
   ]
  },
  {
   "cell_type": "markdown",
   "metadata": {},
   "source": [
    "`S1` zawiera wskaźnik wrażliwości pierwszego rzędu, który mówi jak bardzo $x_1$ i $x_2$ wpływają na ogólną zmienność wyjściową funkcji nad dziedziną $[-2, 2]^2$. \n",
    "\n",
    "**Interpretacja**: możemy zauważyć, że $x_1$ (dla którego indeks wrażliwości wynosi ok. 0.5) wpływa na około połowę całkowitej niepewności wyniku oraz ma prawie dwa razy większy wpływ niż $x_2$. "
   ]
  },
  {
   "cell_type": "code",
   "execution_count": null,
   "metadata": {
    "pycharm": {
     "name": "#%%\n"
    }
   },
   "outputs": [],
   "source": [
    "sensitivity[\"ST\"]"
   ]
  },
  {
   "cell_type": "markdown",
   "metadata": {},
   "source": [
    "`ST` zawiera wskaźniki łączne, które obejmują \"efekty interakcji\" z innymi zmiennymi. \n",
    "\n",
    "**Interpretacja**: Całkowita wrażliwość zmiennej $x_1$ (ok. 0.7) wskazuje, że znaczna część (ok. 20%) naszej całkowitej niepewności wyjściowej wynika z interakcji $x_1$ z innymi zmiennymi wejściowymi. Ponieważ istnieją tylko dwie zmienne wejściowe, wiemy, że ten efekt interakcji musi być związany z $x_2$.\n",
    "\n",
    "Niektóre metody analizy wrażliwości są również w stanie dostarczyć wskaźniki wrażliwości drugiego i trzeciego rzędu. Indeks drugiego rzędu $s_{i, j}$ informuje o poziomie efektów interakcji między $x_i$ a $x_j$ (efekty interakcji są większe niż zero, gdy twoja funkcja jest nieliniowa: czułość parametru $i$ może następnie zależeć od wartości parametru $j$). Indeks trzeciego rzędu $s_{i, j, k}$ informuje o poziomie interakcji między trzema parametrami $x_i$, $x_j$ i $x_k$.\n",
    "\n",
    "https://www.ncbi.nlm.nih.gov/pmc/articles/PMC5006244/"
   ]
  },
  {
   "cell_type": "markdown",
   "metadata": {},
   "source": [
    "## Zadanie"
   ]
  },
  {
   "cell_type": "markdown",
   "metadata": {},
   "source": [
    "Wykonajmy analizę dla funkcji Ishigami, która jest przykładem bardzo nieliniowej funkcji i w dobry sposób testuje metody przeprowadzania analizy wrażliwości."
   ]
  },
  {
   "cell_type": "code",
   "execution_count": null,
   "metadata": {
    "pycharm": {
     "name": "#%%\n"
    }
   },
   "outputs": [],
   "source": [
    "def ishigami(x1, x2, x3) -> float:\n",
    "    return numpy.sin(x1) + 7*numpy.sin(x2)**2 + 0.1 * x3**4 * numpy.sin(x1)"
   ]
  },
  {
   "cell_type": "markdown",
   "metadata": {},
   "source": [
    "Analizę wykonajmy nad dziedziną $[-\\pi, \\pi]^3$."
   ]
  },
  {
   "cell_type": "code",
   "execution_count": null,
   "metadata": {
    "pycharm": {
     "name": "#%%\n"
    }
   },
   "outputs": [],
   "source": [
    "# TODO: zdefiniuj problem jak przy funkcji Rosenbrock'a, stwórz próbki z wykorzystaniem fast_sampler'a oraz oblicz dla nich wartości funkcji ishigami\n"
   ]
  },
  {
   "cell_type": "code",
   "execution_count": null,
   "metadata": {
    "pycharm": {
     "name": "#%%\n"
    }
   },
   "outputs": [],
   "source": [
    "x = sample[:, 0]\n",
    "y = sample[:, 1]\n",
    "z = sample[:, 2]\n",
    "c = Y"
   ]
  },
  {
   "cell_type": "code",
   "execution_count": null,
   "metadata": {
    "pycharm": {
     "name": "#%%\n"
    }
   },
   "outputs": [],
   "source": [
    "import numpy as np\n",
    "from mpl_toolkits.mplot3d import Axes3D\n",
    "import matplotlib.pyplot as plt\n",
    "import matplotlib.tri as mtri\n",
    "\n",
    "do_random_pt_example = True;\n",
    "\n",
    "index_x = 0; index_y = 1; index_z = 2; index_c = 3;\n",
    "list_name_variables = ['x', 'y', 'z', 'c'];\n",
    "name_color_map = 'seismic';\n",
    "triangles = mtri.Triangulation(x, y).triangles;\n",
    "\n",
    "choice_calcuation_colors = 1;\n",
    "if choice_calcuation_colors == 1: # Mean of the \"c\" values of the 3 pt of the triangle\n",
    "    colors = np.mean( [c[triangles[:,0]], c[triangles[:,1]], c[triangles[:,2]]], axis = 0);\n",
    "elif choice_calcuation_colors == 2: # Mediane of the \"c\" values of the 3 pt of the triangle\n",
    "    colors = np.median( [c[triangles[:,0]], c[triangles[:,1]], c[triangles[:,2]]], axis = 0);\n",
    "elif choice_calcuation_colors == 3: # Max of the \"c\" values of the 3 pt of the triangle\n",
    "    colors = np.max( [c[triangles[:,0]], c[triangles[:,1]], c[triangles[:,2]]], axis = 0);\n",
    "fig = plt.figure();\n",
    "ax = fig.gca(projection='3d');\n",
    "triang = mtri.Triangulation(x, y, triangles);\n",
    "surf = ax.plot_trisurf(triang, z, cmap = name_color_map, shade=False, linewidth=0.2);\n",
    "surf.set_array(colors); surf.autoscale();\n",
    "\n",
    "#Add a color bar with a title to explain which variable is represented by the color.\n",
    "cbar = fig.colorbar(surf, shrink=0.5, aspect=5);\n",
    "cbar.ax.get_yaxis().labelpad = 15; cbar.ax.set_ylabel(list_name_variables[index_c], rotation = 270);\n",
    "\n",
    "# Add titles to the axes and a title in the figure.\n",
    "ax.set_xlabel(list_name_variables[index_x]); ax.set_ylabel(list_name_variables[index_y]);\n",
    "ax.set_zlabel(list_name_variables[index_z]);\n",
    "plt.title('%s in function of %s, %s and %s' % (list_name_variables[index_c], list_name_variables[index_x], list_name_variables[index_y], list_name_variables[index_z]) );\n",
    "\n",
    "plt.show()"
   ]
  },
  {
   "cell_type": "code",
   "execution_count": null,
   "metadata": {
    "pycharm": {
     "name": "#%%\n"
    }
   },
   "outputs": [],
   "source": [
    "# Analiza fast wartości funkcji ishigami obliczonych dla wygenerowanych próbek\n",
    "from SALib.analyze import fast\n",
    "sensitivity = fast.analyze(problem, Y, print_to_console=True)"
   ]
  },
  {
   "cell_type": "markdown",
   "metadata": {},
   "source": [
    "## Inne przykłady użycia metod z biblioteki SALib"
   ]
  },
  {
   "cell_type": "code",
   "execution_count": null,
   "metadata": {
    "pycharm": {
     "name": "#%%\n"
    }
   },
   "outputs": [],
   "source": [
    "import matplotlib\n",
    "matplotlib.use('TkAgg')\n",
    "import matplotlib.pyplot as plt\n",
    "\n",
    "from SALib.analyze import morris\n",
    "from SALib.sample.morris import sample\n",
    "from SALib.test_functions import Ishigami, Sobol_G\n",
    "from SALib.util import read_param_file\n",
    "from SALib.plotting.morris import horizontal_bar_plot, covariance_plot, sample_histograms\n",
    "\n",
    "# Read the parameter range file and generate samples\n",
    "problem = read_param_file('Sobol_G.txt')\n",
    "\n",
    "# Generate samples\n",
    "param_values = sample(problem, N=1000, num_levels=4)\n",
    "\n",
    "# Run the \"model\" -- this will happen offline for external models\n",
    "Y = Sobol_G.evaluate(param_values)\n",
    "\n",
    "# Perform the sensitivity analysis using the model output\n",
    "# Specify which column of the output file to analyze (zero-indexed)\n",
    "Si = morris.analyze(problem, param_values, Y, conf_level=0.95, \n",
    "                    print_to_console=True,\n",
    "                    num_levels=4, num_resamples=100)\n",
    "\n",
    "print ('Convergence index:', max(Si['mu_star_conf']/Si['mu_star']))"
   ]
  },
  {
   "cell_type": "code",
   "execution_count": null,
   "metadata": {
    "pycharm": {
     "name": "#%%\n"
    }
   },
   "outputs": [],
   "source": [
    "fig, (ax1, ax2) = plt.subplots(1, 2)\n",
    "horizontal_bar_plot(ax1, Si,{}, sortby='mu_star', unit=r\"tCO$_2$/year\")\n",
    "covariance_plot(ax2, Si, {}, unit=r\"tCO$_2$/year\")\n",
    "plt.show()"
   ]
  },
  {
   "cell_type": "code",
   "execution_count": null,
   "metadata": {
    "pycharm": {
     "name": "#%%\n"
    }
   },
   "outputs": [],
   "source": [
    "fig2 = plt.figure()\n",
    "sample_histograms(fig2, param_values, problem, {'color':'y'})\n",
    "plt.show()"
   ]
  },
  {
   "cell_type": "markdown",
   "metadata": {},
   "source": [
    "## Do domu"
   ]
  },
  {
   "cell_type": "markdown",
   "metadata": {},
   "source": [
    "Przeprowadzić analizę wrażliwości dla wymyślonego przez siebie modelu (jakaś funkcja przyjmująca 2 lub 3 argumenty)."
   ]
  }
 ],
 "metadata": {
  "kernelspec": {
   "display_name": "Python 3",
   "language": "python",
   "name": "python3"
  },
  "language_info": {
   "codemirror_mode": {
    "name": "ipython",
    "version": 3
   },
   "file_extension": ".py",
   "mimetype": "text/x-python",
   "name": "python",
   "nbconvert_exporter": "python",
   "pygments_lexer": "ipython3",
   "version": "3.6.7"
  },
  "pycharm": {
   "stem_cell": {
    "cell_type": "raw",
    "metadata": {
     "collapsed": false
    },
    "source": []
   }
  }
 },
 "nbformat": 4,
 "nbformat_minor": 1
}
